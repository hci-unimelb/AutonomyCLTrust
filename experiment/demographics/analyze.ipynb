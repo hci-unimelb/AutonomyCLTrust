{
 "cells": [
  {
   "cell_type": "code",
   "execution_count": 9,
   "metadata": {},
   "outputs": [],
   "source": [
    "# imports\n",
    "from pandas import read_csv\n",
    "from os import getcwd\n",
    "from statistics import pstdev"
   ]
  },
  {
   "cell_type": "code",
   "execution_count": 10,
   "metadata": {},
   "outputs": [],
   "source": [
    "# read data\n",
    "NUM_PARTICIPANTS = 24\n",
    "demo_df = read_csv(getcwd() + \"\\\\raw_results.csv\")\n",
    "demo_df = demo_df.iloc[2:26, 17:25]"
   ]
  },
  {
   "cell_type": "markdown",
   "metadata": {},
   "source": [
    "GENDER:"
   ]
  },
  {
   "cell_type": "code",
   "execution_count": 11,
   "metadata": {},
   "outputs": [
    {
     "name": "stdout",
     "output_type": "stream",
     "text": [
      "Female = 18/24, Male = 6/24\n",
      "Female = 75.000 %, Male = 25.000 %\n"
     ]
    }
   ],
   "source": [
    "gender_list = demo_df['Q2'].tolist()\n",
    "female_count = gender_list.count(\"1\")\n",
    "male_count = NUM_PARTICIPANTS - female_count\n",
    "\n",
    "female_percentage = female_count / NUM_PARTICIPANTS * 100\n",
    "male_percentage = male_count / NUM_PARTICIPANTS * 100\n",
    "\n",
    "print(\"Female = %d/24, Male = %d/24\" % (female_count, male_count))\n",
    "print(\"Female = %.3f %%, Male = %.3f %%\" % (female_percentage, male_percentage))"
   ]
  },
  {
   "cell_type": "markdown",
   "metadata": {},
   "source": [
    "AGE:"
   ]
  },
  {
   "cell_type": "code",
   "execution_count": 12,
   "metadata": {},
   "outputs": [
    {
     "name": "stdout",
     "output_type": "stream",
     "text": [
      "Min age = 18, Max age = 32, Mean age = 23.50, SD = 3.88\n"
     ]
    }
   ],
   "source": [
    "age_list = demo_df['Q3'].tolist()\n",
    "age_list = [int(age_list[i]) for i in range(len(age_list))]\n",
    "\n",
    "min_age = min(age_list)\n",
    "max_age = max(age_list)\n",
    "mean_age = sum(age_list) / len(age_list)\n",
    "\n",
    "sd_age = pstdev(age_list)\n",
    "\n",
    "print(\"Min age = %d, Max age = %d, Mean age = %.2f, SD = %.2f\" % (min_age, max_age, mean_age, sd_age))"
   ]
  },
  {
   "cell_type": "markdown",
   "metadata": {},
   "source": [
    "HANDEDNESS:"
   ]
  },
  {
   "cell_type": "code",
   "execution_count": 13,
   "metadata": {},
   "outputs": [
    {
     "name": "stdout",
     "output_type": "stream",
     "text": [
      "Left-handed = 0/24, Right-handed = 22/24, Both/Either = 2/24\n"
     ]
    }
   ],
   "source": [
    "hand_list = demo_df['Q4'].tolist()\n",
    "rh_count = hand_list.count(\"1\")\n",
    "both_count = hand_list.count(\"3\")\n",
    "lh_count = NUM_PARTICIPANTS - rh_count - both_count\n",
    "\n",
    "print(\"Left-handed = %d/24, Right-handed = %d/24, Both/Either = %d/24\" % (lh_count, rh_count, both_count))"
   ]
  },
  {
   "cell_type": "markdown",
   "metadata": {},
   "source": [
    "TRUST IN TECHONOLOGY:"
   ]
  },
  {
   "cell_type": "code",
   "execution_count": 14,
   "metadata": {},
   "outputs": [
    {
     "name": "stdout",
     "output_type": "stream",
     "text": [
      "3: 2/24\n",
      "5: 6/24\n",
      "7: 4/24\n",
      "6: 12/24\n"
     ]
    }
   ],
   "source": [
    "trust_list = demo_df['Q5_1'].tolist()\n",
    "answer_list = set(trust_list)\n",
    "\n",
    "for ans in answer_list:\n",
    "    this_ans_count = trust_list.count(ans)\n",
    "    print(\"%s: %d/24\" % (ans, this_ans_count))"
   ]
  },
  {
   "cell_type": "markdown",
   "metadata": {},
   "source": [
    "PLAY VIDEO GAMES:"
   ]
  },
  {
   "cell_type": "code",
   "execution_count": 15,
   "metadata": {},
   "outputs": [
    {
     "name": "stdout",
     "output_type": "stream",
     "text": [
      "7: 4/24\n",
      "4: 1/24\n",
      "5: 3/24\n",
      "6: 6/24\n",
      "1: 7/24\n",
      "2: 3/24\n"
     ]
    }
   ],
   "source": [
    "games_list = demo_df['Q5_2'].tolist()\n",
    "answer_list = set(games_list)\n",
    "\n",
    "for ans in answer_list:\n",
    "    this_ans_count = games_list.count(ans)\n",
    "    print(\"%s: %d/24\" % (ans, this_ans_count))"
   ]
  },
  {
   "cell_type": "markdown",
   "metadata": {},
   "source": [
    "MUSICAL INSTRUMENT:"
   ]
  },
  {
   "cell_type": "code",
   "execution_count": 16,
   "metadata": {},
   "outputs": [
    {
     "name": "stdout",
     "output_type": "stream",
     "text": [
      "4: 3/24\n",
      "5: 2/24\n",
      "3: 3/24\n",
      "1: 10/24\n",
      "2: 6/24\n"
     ]
    }
   ],
   "source": [
    "music_list = demo_df['Q5_3'].tolist()\n",
    "answer_list = set(music_list)\n",
    "\n",
    "for ans in answer_list:\n",
    "    this_ans_count = music_list.count(ans)\n",
    "    print(\"%s: %d/24\" % (ans, this_ans_count))"
   ]
  }
 ],
 "metadata": {
  "kernelspec": {
   "display_name": "Python 3",
   "language": "python",
   "name": "python3"
  },
  "language_info": {
   "codemirror_mode": {
    "name": "ipython",
    "version": 3
   },
   "file_extension": ".py",
   "mimetype": "text/x-python",
   "name": "python",
   "nbconvert_exporter": "python",
   "pygments_lexer": "ipython3",
   "version": "3.10.11"
  },
  "orig_nbformat": 4
 },
 "nbformat": 4,
 "nbformat_minor": 2
}
